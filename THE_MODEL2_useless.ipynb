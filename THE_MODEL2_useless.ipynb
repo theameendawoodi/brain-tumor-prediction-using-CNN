{
  "nbformat": 4,
  "nbformat_minor": 0,
  "metadata": {
    "colab": {
      "provenance": [],
      "machine_shape": "hm",
      "gpuType": "A100"
    },
    "kernelspec": {
      "name": "python3",
      "display_name": "Python 3"
    },
    "language_info": {
      "name": "python"
    },
    "accelerator": "GPU"
  },
  "cells": [
    {
      "cell_type": "code",
      "execution_count": null,
      "metadata": {
        "colab": {
          "base_uri": "https://localhost:8080/"
        },
        "id": "hNrI8-ULw15h",
        "outputId": "34e09297-a5e1-4bc5-dd95-d8b3f1f7f435"
      },
      "outputs": [
        {
          "output_type": "stream",
          "name": "stdout",
          "text": [
            "Mounted at /content/drive\n"
          ]
        }
      ],
      "source": [
        "from google.colab import drive\n",
        "drive.mount('/content/drive')"
      ]
    },
    {
      "cell_type": "code",
      "source": [
        "import torch\n",
        "torch.cuda.is_available()"
      ],
      "metadata": {
        "colab": {
          "base_uri": "https://localhost:8080/"
        },
        "id": "_lBBd7DNw75D",
        "outputId": "daec38cd-d94d-48b5-d6ae-55e890b5f32a"
      },
      "execution_count": null,
      "outputs": [
        {
          "output_type": "execute_result",
          "data": {
            "text/plain": [
              "True"
            ]
          },
          "metadata": {},
          "execution_count": 2
        }
      ]
    },
    {
      "cell_type": "code",
      "source": [
        "!nvidia-smi"
      ],
      "metadata": {
        "colab": {
          "base_uri": "https://localhost:8080/"
        },
        "id": "xZDDZyT8w72j",
        "outputId": "9c7432e1-2182-423b-ab37-bf6df0b27770"
      },
      "execution_count": null,
      "outputs": [
        {
          "output_type": "stream",
          "name": "stdout",
          "text": [
            "Tue Mar  5 12:28:55 2024       \n",
            "+---------------------------------------------------------------------------------------+\n",
            "| NVIDIA-SMI 535.104.05             Driver Version: 535.104.05   CUDA Version: 12.2     |\n",
            "|-----------------------------------------+----------------------+----------------------+\n",
            "| GPU  Name                 Persistence-M | Bus-Id        Disp.A | Volatile Uncorr. ECC |\n",
            "| Fan  Temp   Perf          Pwr:Usage/Cap |         Memory-Usage | GPU-Util  Compute M. |\n",
            "|                                         |                      |               MIG M. |\n",
            "|=========================================+======================+======================|\n",
            "|   0  Tesla V100-SXM2-16GB           Off | 00000000:00:04.0 Off |                    0 |\n",
            "| N/A   35C    P0              23W / 300W |      2MiB / 16384MiB |      0%      Default |\n",
            "|                                         |                      |                  N/A |\n",
            "+-----------------------------------------+----------------------+----------------------+\n",
            "                                                                                         \n",
            "+---------------------------------------------------------------------------------------+\n",
            "| Processes:                                                                            |\n",
            "|  GPU   GI   CI        PID   Type   Process name                            GPU Memory |\n",
            "|        ID   ID                                                             Usage      |\n",
            "|=======================================================================================|\n",
            "|  No running processes found                                                           |\n",
            "+---------------------------------------------------------------------------------------+\n"
          ]
        }
      ]
    },
    {
      "cell_type": "code",
      "source": [
        "!pip install scikit-ntk"
      ],
      "metadata": {
        "colab": {
          "base_uri": "https://localhost:8080/"
        },
        "id": "FfI8wueAw7zr",
        "outputId": "b1d752b4-a73e-475d-b60a-93705de88cbd"
      },
      "execution_count": null,
      "outputs": [
        {
          "output_type": "stream",
          "name": "stdout",
          "text": [
            "Collecting scikit-ntk\n",
            "  Downloading scikit_ntk-1.1.3-py3-none-any.whl (5.2 kB)\n",
            "Requirement already satisfied: scikit-learn<2.0.0,>=1.1.3 in /usr/local/lib/python3.10/dist-packages (from scikit-ntk) (1.2.2)\n",
            "Requirement already satisfied: numpy>=1.17.3 in /usr/local/lib/python3.10/dist-packages (from scikit-learn<2.0.0,>=1.1.3->scikit-ntk) (1.25.2)\n",
            "Requirement already satisfied: scipy>=1.3.2 in /usr/local/lib/python3.10/dist-packages (from scikit-learn<2.0.0,>=1.1.3->scikit-ntk) (1.11.4)\n",
            "Requirement already satisfied: joblib>=1.1.1 in /usr/local/lib/python3.10/dist-packages (from scikit-learn<2.0.0,>=1.1.3->scikit-ntk) (1.3.2)\n",
            "Requirement already satisfied: threadpoolctl>=2.0.0 in /usr/local/lib/python3.10/dist-packages (from scikit-learn<2.0.0,>=1.1.3->scikit-ntk) (3.3.0)\n",
            "Installing collected packages: scikit-ntk\n",
            "Successfully installed scikit-ntk-1.1.3\n"
          ]
        }
      ]
    },
    {
      "cell_type": "code",
      "source": [
        "import tensorflow as tfa\n",
        "import keras\n",
        "from keras.layers import Dense,Flatten,MaxPool2D,Conv2D,Dropout,Activation,BatchNormalization\n",
        "from keras.models import Sequential\n",
        "from skntk import NeuralTangentKernel as NTK\n",
        "import numpy as np\n",
        "import matplotlib.pyplot as plt\n",
        "import tensorflow.signal as tf\n",
        "print(\"all the libraries are imported\")"
      ],
      "metadata": {
        "colab": {
          "base_uri": "https://localhost:8080/"
        },
        "id": "yJBRg2cAw7xC",
        "outputId": "ba809629-7684-4f57-855d-acfa93c554fd"
      },
      "execution_count": null,
      "outputs": [
        {
          "output_type": "stream",
          "name": "stdout",
          "text": [
            "all the libraries are imported\n"
          ]
        }
      ]
    },
    {
      "cell_type": "code",
      "source": [
        "dataset_dir=r'/content/drive/MyDrive/the dataset/possible dataset/data'\n",
        "image_height=512\n",
        "image_width=512\n",
        "batch_size=32\n",
        "seed=42\n",
        "validation_split=0.1"
      ],
      "metadata": {
        "id": "BkJWVrL3w7uX"
      },
      "execution_count": null,
      "outputs": []
    },
    {
      "cell_type": "code",
      "source": [
        "train=keras.preprocessing.image_dataset_from_directory(\n",
        "    dataset_dir,\n",
        "    batch_size=batch_size,\n",
        "    label_mode='int',\n",
        "    image_size=(image_height,image_width),\n",
        "    seed=seed,\n",
        "    validation_split=validation_split,\n",
        "    subset='training'\n",
        ")\n",
        "test=keras.preprocessing.image_dataset_from_directory(\n",
        "    dataset_dir,\n",
        "    label_mode='int',\n",
        "    batch_size=batch_size,\n",
        "    image_size=(image_height,image_width),\n",
        "    seed=seed,\n",
        "    validation_split=validation_split,\n",
        "    subset='validation'\n",
        ")"
      ],
      "metadata": {
        "colab": {
          "base_uri": "https://localhost:8080/"
        },
        "id": "tUi1nDJ_w7rn",
        "outputId": "0868b3b6-9945-4bfa-f706-98a9b3225788"
      },
      "execution_count": null,
      "outputs": [
        {
          "output_type": "stream",
          "name": "stdout",
          "text": [
            "Found 1564 files belonging to 2 classes.\n",
            "Using 1408 files for training.\n",
            "Found 1564 files belonging to 2 classes.\n",
            "Using 156 files for validation.\n"
          ]
        }
      ]
    },
    {
      "cell_type": "code",
      "source": [
        "input_shape=(image_height,image_width,3)"
      ],
      "metadata": {
        "id": "LkBEchbHw7ov"
      },
      "execution_count": null,
      "outputs": []
    },
    {
      "cell_type": "code",
      "source": [
        "import tensorflow as tf\n",
        "\n",
        "print(\"Num GPUs Available: \", len(tf.config.list_physical_devices('GPU')))"
      ],
      "metadata": {
        "colab": {
          "base_uri": "https://localhost:8080/"
        },
        "id": "2dLbhwN9w7lq",
        "outputId": "b83e8315-6234-4018-fde7-e1ffc3aae7fb"
      },
      "execution_count": null,
      "outputs": [
        {
          "output_type": "stream",
          "name": "stdout",
          "text": [
            "Num GPUs Available:  1\n"
          ]
        }
      ]
    },
    {
      "cell_type": "code",
      "source": [
        "resize_rescale=keras.Sequential([\n",
        "    keras.layers.Resizing(image_height,image_width),\n",
        "    keras.layers.Rescaling(1./255)\n",
        "])"
      ],
      "metadata": {
        "id": "KPCMhOwLvbLR"
      },
      "execution_count": null,
      "outputs": []
    },
    {
      "cell_type": "code",
      "source": [
        "data_augmentation=keras.Sequential([\n",
        "    keras.layers.RandomFlip(\"horizontal_and_vertical\"),\n",
        "    keras.layers.RandomRotation(0.2),\n",
        "])"
      ],
      "metadata": {
        "id": "ffSZh9k5vb3F"
      },
      "execution_count": null,
      "outputs": []
    },
    {
      "cell_type": "code",
      "source": [
        "with tf.device('/device:GPU:0'):\n",
        "  def fourier(inp=None):\n",
        "    if inp==None:\n",
        "        pass\n",
        "    elif(inp!=None):\n",
        "        return tf.fft3d(inp)\n",
        "  #agorithmn 1\n",
        "  model=Sequential([\n",
        "    resize_rescale,\n",
        "    data_augmentation,\n",
        "    Conv2D(32,(3,3),activation='relu',input_shape=input_shape),\n",
        "    MaxPool2D((3,3)),\n",
        "\n",
        "    Conv2D(32,(3,3),activation='relu'),\n",
        "    MaxPool2D((3,3)),\n",
        "\n",
        "    Flatten(),\n",
        "\n",
        "    Dense(32,activation=fourier()),\n",
        "    Dense(1,activation='sigmoid'),\n",
        "  ])\n",
        "  model.compile(loss='binary_crossentropy',optimizer='adam',metrics=['accuracy'])\n",
        "  history=model.fit(train,epochs=200,batch_size=32)\n"
      ],
      "metadata": {
        "colab": {
          "base_uri": "https://localhost:8080/"
        },
        "id": "rF0l75Ksw7fc",
        "outputId": "daa0afc7-e371-4df1-b9b1-fca6e37ae107"
      },
      "execution_count": null,
      "outputs": [
        {
          "output_type": "stream",
          "name": "stdout",
          "text": [
            "Epoch 1/200\n",
            "44/44 [==============================] - 140s 2s/step - loss: 0.9144 - accuracy: 0.6719\n",
            "Epoch 2/200\n",
            "44/44 [==============================] - 11s 221ms/step - loss: 0.5078 - accuracy: 0.7692\n",
            "Epoch 3/200\n",
            "44/44 [==============================] - 11s 209ms/step - loss: 0.4556 - accuracy: 0.8061\n",
            "Epoch 4/200\n",
            "44/44 [==============================] - 11s 210ms/step - loss: 0.4402 - accuracy: 0.8210\n",
            "Epoch 5/200\n",
            "44/44 [==============================] - 11s 220ms/step - loss: 0.4275 - accuracy: 0.8203\n",
            "Epoch 6/200\n",
            "44/44 [==============================] - 10s 202ms/step - loss: 0.3766 - accuracy: 0.8558\n",
            "Epoch 7/200\n",
            "44/44 [==============================] - 10s 186ms/step - loss: 0.3585 - accuracy: 0.8601\n",
            "Epoch 8/200\n",
            "44/44 [==============================] - 11s 207ms/step - loss: 0.3689 - accuracy: 0.8438\n",
            "Epoch 9/200\n",
            "44/44 [==============================] - 12s 234ms/step - loss: 0.3820 - accuracy: 0.8352\n",
            "Epoch 10/200\n",
            "44/44 [==============================] - 11s 212ms/step - loss: 0.3521 - accuracy: 0.8551\n",
            "Epoch 11/200\n",
            "44/44 [==============================] - 9s 180ms/step - loss: 0.3308 - accuracy: 0.8714\n",
            "Epoch 12/200\n",
            "44/44 [==============================] - 11s 211ms/step - loss: 0.3202 - accuracy: 0.8707\n",
            "Epoch 13/200\n",
            "44/44 [==============================] - 11s 229ms/step - loss: 0.3061 - accuracy: 0.8793\n",
            "Epoch 14/200\n",
            "44/44 [==============================] - 10s 190ms/step - loss: 0.3143 - accuracy: 0.8771\n",
            "Epoch 15/200\n",
            "44/44 [==============================] - 11s 206ms/step - loss: 0.2848 - accuracy: 0.8899\n",
            "Epoch 16/200\n",
            "44/44 [==============================] - 11s 219ms/step - loss: 0.2966 - accuracy: 0.8786\n",
            "Epoch 17/200\n",
            "44/44 [==============================] - 11s 221ms/step - loss: 0.2964 - accuracy: 0.8821\n",
            "Epoch 18/200\n",
            "44/44 [==============================] - 10s 195ms/step - loss: 0.2675 - accuracy: 0.8828\n",
            "Epoch 19/200\n",
            "44/44 [==============================] - 10s 182ms/step - loss: 0.2748 - accuracy: 0.8878\n",
            "Epoch 20/200\n",
            "44/44 [==============================] - 11s 230ms/step - loss: 0.2921 - accuracy: 0.8757\n",
            "Epoch 21/200\n",
            "44/44 [==============================] - 11s 224ms/step - loss: 0.2590 - accuracy: 0.9034\n",
            "Epoch 22/200\n",
            "44/44 [==============================] - 9s 182ms/step - loss: 0.2643 - accuracy: 0.8864\n",
            "Epoch 23/200\n",
            "44/44 [==============================] - 9s 177ms/step - loss: 0.2715 - accuracy: 0.8835\n",
            "Epoch 24/200\n",
            "44/44 [==============================] - 10s 210ms/step - loss: 0.2522 - accuracy: 0.8956\n",
            "Epoch 25/200\n",
            "44/44 [==============================] - 10s 201ms/step - loss: 0.2528 - accuracy: 0.9006\n",
            "Epoch 26/200\n",
            "44/44 [==============================] - 9s 173ms/step - loss: 0.2734 - accuracy: 0.8878\n",
            "Epoch 27/200\n",
            "44/44 [==============================] - 11s 209ms/step - loss: 0.2483 - accuracy: 0.8913\n",
            "Epoch 28/200\n",
            "44/44 [==============================] - 11s 212ms/step - loss: 0.2343 - accuracy: 0.8963\n",
            "Epoch 29/200\n",
            "44/44 [==============================] - 9s 191ms/step - loss: 0.2165 - accuracy: 0.9169\n",
            "Epoch 30/200\n",
            "44/44 [==============================] - 10s 179ms/step - loss: 0.2426 - accuracy: 0.8991\n",
            "Epoch 31/200\n",
            "44/44 [==============================] - 10s 207ms/step - loss: 0.2168 - accuracy: 0.9084\n",
            "Epoch 32/200\n",
            "44/44 [==============================] - 10s 211ms/step - loss: 0.2275 - accuracy: 0.9141\n",
            "Epoch 33/200\n",
            "44/44 [==============================] - 9s 187ms/step - loss: 0.2147 - accuracy: 0.9126\n",
            "Epoch 34/200\n",
            "44/44 [==============================] - 9s 177ms/step - loss: 0.2180 - accuracy: 0.9084\n",
            "Epoch 35/200\n",
            "44/44 [==============================] - 11s 196ms/step - loss: 0.2261 - accuracy: 0.9055\n",
            "Epoch 36/200\n",
            "44/44 [==============================] - 10s 207ms/step - loss: 0.2129 - accuracy: 0.9148\n",
            "Epoch 37/200\n",
            "44/44 [==============================] - 9s 178ms/step - loss: 0.1956 - accuracy: 0.9190\n",
            "Epoch 38/200\n",
            "44/44 [==============================] - 10s 183ms/step - loss: 0.1943 - accuracy: 0.9247\n",
            "Epoch 39/200\n",
            "44/44 [==============================] - 10s 208ms/step - loss: 0.1925 - accuracy: 0.9190\n",
            "Epoch 40/200\n",
            "44/44 [==============================] - 10s 206ms/step - loss: 0.2050 - accuracy: 0.9205\n",
            "Epoch 41/200\n",
            "44/44 [==============================] - 9s 175ms/step - loss: 0.1936 - accuracy: 0.9219\n",
            "Epoch 42/200\n",
            "44/44 [==============================] - 10s 195ms/step - loss: 0.2047 - accuracy: 0.9119\n",
            "Epoch 43/200\n",
            "44/44 [==============================] - 10s 205ms/step - loss: 0.1962 - accuracy: 0.9318\n",
            "Epoch 44/200\n",
            "44/44 [==============================] - 10s 199ms/step - loss: 0.1968 - accuracy: 0.9190\n",
            "Epoch 45/200\n",
            "44/44 [==============================] - 9s 175ms/step - loss: 0.2060 - accuracy: 0.9176\n",
            "Epoch 46/200\n",
            "44/44 [==============================] - 10s 190ms/step - loss: 0.1658 - accuracy: 0.9297\n",
            "Epoch 47/200\n",
            "44/44 [==============================] - 10s 206ms/step - loss: 0.1895 - accuracy: 0.9190\n",
            "Epoch 48/200\n",
            "44/44 [==============================] - 9s 180ms/step - loss: 0.1642 - accuracy: 0.9375\n",
            "Epoch 49/200\n",
            "44/44 [==============================] - 9s 177ms/step - loss: 0.1799 - accuracy: 0.9261\n",
            "Epoch 50/200\n",
            "44/44 [==============================] - 11s 214ms/step - loss: 0.1644 - accuracy: 0.9339\n",
            "Epoch 51/200\n",
            "44/44 [==============================] - 11s 214ms/step - loss: 0.1763 - accuracy: 0.9332\n",
            "Epoch 52/200\n",
            "44/44 [==============================] - 9s 187ms/step - loss: 0.1891 - accuracy: 0.9247\n",
            "Epoch 53/200\n",
            "44/44 [==============================] - 9s 179ms/step - loss: 0.1610 - accuracy: 0.9403\n",
            "Epoch 54/200\n",
            "44/44 [==============================] - 10s 207ms/step - loss: 0.1634 - accuracy: 0.9368\n",
            "Epoch 55/200\n",
            "44/44 [==============================] - 10s 210ms/step - loss: 0.1654 - accuracy: 0.9354\n",
            "Epoch 56/200\n",
            "44/44 [==============================] - 10s 191ms/step - loss: 0.1399 - accuracy: 0.9474\n",
            "Epoch 57/200\n",
            "44/44 [==============================] - 10s 179ms/step - loss: 0.1584 - accuracy: 0.9418\n",
            "Epoch 58/200\n",
            "44/44 [==============================] - 11s 216ms/step - loss: 0.1444 - accuracy: 0.9425\n",
            "Epoch 59/200\n",
            "44/44 [==============================] - 11s 217ms/step - loss: 0.1430 - accuracy: 0.9425\n",
            "Epoch 60/200\n",
            "44/44 [==============================] - 10s 194ms/step - loss: 0.1441 - accuracy: 0.9418\n",
            "Epoch 61/200\n",
            "44/44 [==============================] - 10s 181ms/step - loss: 0.1379 - accuracy: 0.9482\n",
            "Epoch 62/200\n",
            "44/44 [==============================] - 11s 211ms/step - loss: 0.1585 - accuracy: 0.9339\n",
            "Epoch 63/200\n",
            "44/44 [==============================] - 11s 212ms/step - loss: 0.1414 - accuracy: 0.9460\n",
            "Epoch 64/200\n",
            "44/44 [==============================] - 10s 196ms/step - loss: 0.1570 - accuracy: 0.9460\n",
            "Epoch 65/200\n",
            "44/44 [==============================] - 9s 181ms/step - loss: 0.1523 - accuracy: 0.9432\n",
            "Epoch 66/200\n",
            "44/44 [==============================] - 10s 209ms/step - loss: 0.1375 - accuracy: 0.9453\n",
            "Epoch 67/200\n",
            "44/44 [==============================] - 10s 210ms/step - loss: 0.1326 - accuracy: 0.9489\n",
            "Epoch 68/200\n",
            "44/44 [==============================] - 9s 176ms/step - loss: 0.1375 - accuracy: 0.9524\n",
            "Epoch 69/200\n",
            "44/44 [==============================] - 10s 205ms/step - loss: 0.1312 - accuracy: 0.9531\n",
            "Epoch 70/200\n",
            "44/44 [==============================] - 10s 209ms/step - loss: 0.1292 - accuracy: 0.9545\n",
            "Epoch 71/200\n",
            "44/44 [==============================] - 9s 189ms/step - loss: 0.1439 - accuracy: 0.9474\n",
            "Epoch 72/200\n",
            "44/44 [==============================] - 9s 179ms/step - loss: 0.1396 - accuracy: 0.9453\n",
            "Epoch 73/200\n",
            "44/44 [==============================] - 11s 206ms/step - loss: 0.1257 - accuracy: 0.9446\n",
            "Epoch 74/200\n",
            "44/44 [==============================] - 11s 213ms/step - loss: 0.1143 - accuracy: 0.9581\n",
            "Epoch 75/200\n",
            "44/44 [==============================] - 9s 183ms/step - loss: 0.1297 - accuracy: 0.9474\n",
            "Epoch 76/200\n",
            "44/44 [==============================] - 11s 192ms/step - loss: 0.1257 - accuracy: 0.9510\n",
            "Epoch 77/200\n",
            "44/44 [==============================] - 10s 208ms/step - loss: 0.1178 - accuracy: 0.9581\n",
            "Epoch 78/200\n",
            "44/44 [==============================] - 10s 191ms/step - loss: 0.1174 - accuracy: 0.9545\n",
            "Epoch 79/200\n",
            "44/44 [==============================] - 10s 179ms/step - loss: 0.1365 - accuracy: 0.9453\n",
            "Epoch 80/200\n",
            "44/44 [==============================] - 10s 210ms/step - loss: 0.1279 - accuracy: 0.9474\n",
            "Epoch 81/200\n",
            "44/44 [==============================] - 10s 209ms/step - loss: 0.1135 - accuracy: 0.9624\n",
            "Epoch 82/200\n",
            "44/44 [==============================] - 10s 182ms/step - loss: 0.1248 - accuracy: 0.9496\n",
            "Epoch 83/200\n",
            "44/44 [==============================] - 10s 202ms/step - loss: 0.1312 - accuracy: 0.9432\n",
            "Epoch 84/200\n",
            "44/44 [==============================] - 10s 207ms/step - loss: 0.1189 - accuracy: 0.9595\n",
            "Epoch 85/200\n",
            "44/44 [==============================] - 10s 191ms/step - loss: 0.1071 - accuracy: 0.9602\n",
            "Epoch 86/200\n",
            "44/44 [==============================] - 9s 174ms/step - loss: 0.1102 - accuracy: 0.9574\n",
            "Epoch 87/200\n",
            "44/44 [==============================] - 10s 206ms/step - loss: 0.1209 - accuracy: 0.9545\n",
            "Epoch 88/200\n",
            "44/44 [==============================] - 10s 209ms/step - loss: 0.1006 - accuracy: 0.9631\n",
            "Epoch 89/200\n",
            "44/44 [==============================] - 10s 192ms/step - loss: 0.1238 - accuracy: 0.9531\n",
            "Epoch 90/200\n",
            "44/44 [==============================] - 9s 177ms/step - loss: 0.1058 - accuracy: 0.9609\n",
            "Epoch 91/200\n",
            "44/44 [==============================] - 10s 191ms/step - loss: 0.1393 - accuracy: 0.9411\n",
            "Epoch 92/200\n",
            "44/44 [==============================] - 10s 204ms/step - loss: 0.1000 - accuracy: 0.9624\n",
            "Epoch 93/200\n",
            "44/44 [==============================] - 10s 194ms/step - loss: 0.1131 - accuracy: 0.9560\n",
            "Epoch 94/200\n",
            "44/44 [==============================] - 9s 176ms/step - loss: 0.0928 - accuracy: 0.9624\n",
            "Epoch 95/200\n",
            "44/44 [==============================] - 10s 206ms/step - loss: 0.0988 - accuracy: 0.9616\n",
            "Epoch 96/200\n",
            "44/44 [==============================] - 10s 203ms/step - loss: 0.1021 - accuracy: 0.9616\n",
            "Epoch 97/200\n",
            "44/44 [==============================] - 9s 180ms/step - loss: 0.1042 - accuracy: 0.9581\n",
            "Epoch 98/200\n",
            "44/44 [==============================] - 10s 181ms/step - loss: 0.1151 - accuracy: 0.9524\n",
            "Epoch 99/200\n",
            "44/44 [==============================] - 10s 208ms/step - loss: 0.1015 - accuracy: 0.9624\n",
            "Epoch 100/200\n",
            "44/44 [==============================] - 9s 188ms/step - loss: 0.0909 - accuracy: 0.9616\n",
            "Epoch 101/200\n",
            "44/44 [==============================] - 10s 177ms/step - loss: 0.0943 - accuracy: 0.9659\n",
            "Epoch 102/200\n",
            "44/44 [==============================] - 11s 211ms/step - loss: 0.1112 - accuracy: 0.9616\n",
            "Epoch 103/200\n",
            "44/44 [==============================] - 10s 211ms/step - loss: 0.0917 - accuracy: 0.9659\n",
            "Epoch 104/200\n",
            "44/44 [==============================] - 9s 179ms/step - loss: 0.0921 - accuracy: 0.9666\n",
            "Epoch 105/200\n",
            "44/44 [==============================] - 10s 180ms/step - loss: 0.0917 - accuracy: 0.9595\n",
            "Epoch 106/200\n",
            "44/44 [==============================] - 10s 210ms/step - loss: 0.1131 - accuracy: 0.9595\n",
            "Epoch 107/200\n",
            "44/44 [==============================] - 10s 208ms/step - loss: 0.1021 - accuracy: 0.9567\n",
            "Epoch 108/200\n",
            "44/44 [==============================] - 9s 182ms/step - loss: 0.1042 - accuracy: 0.9588\n",
            "Epoch 109/200\n",
            "44/44 [==============================] - 10s 180ms/step - loss: 0.0972 - accuracy: 0.9616\n",
            "Epoch 110/200\n",
            "44/44 [==============================] - 11s 214ms/step - loss: 0.1065 - accuracy: 0.9638\n",
            "Epoch 111/200\n",
            "44/44 [==============================] - 10s 208ms/step - loss: 0.0796 - accuracy: 0.9709\n",
            "Epoch 112/200\n",
            "44/44 [==============================] - 10s 192ms/step - loss: 0.0829 - accuracy: 0.9709\n",
            "Epoch 113/200\n",
            "44/44 [==============================] - 10s 210ms/step - loss: 0.0882 - accuracy: 0.9723\n",
            "Epoch 114/200\n",
            "44/44 [==============================] - 10s 206ms/step - loss: 0.0699 - accuracy: 0.9737\n",
            "Epoch 115/200\n",
            "44/44 [==============================] - 9s 176ms/step - loss: 0.0767 - accuracy: 0.9702\n",
            "Epoch 116/200\n",
            "44/44 [==============================] - 10s 189ms/step - loss: 0.0745 - accuracy: 0.9666\n",
            "Epoch 117/200\n",
            "44/44 [==============================] - 10s 206ms/step - loss: 0.0811 - accuracy: 0.9688\n",
            "Epoch 118/200\n",
            "44/44 [==============================] - 9s 177ms/step - loss: 0.0996 - accuracy: 0.9645\n",
            "Epoch 119/200\n",
            "44/44 [==============================] - 10s 189ms/step - loss: 0.0760 - accuracy: 0.9751\n",
            "Epoch 120/200\n",
            "44/44 [==============================] - 10s 211ms/step - loss: 0.0770 - accuracy: 0.9716\n",
            "Epoch 121/200\n",
            "44/44 [==============================] - 10s 209ms/step - loss: 0.0808 - accuracy: 0.9673\n",
            "Epoch 122/200\n",
            "44/44 [==============================] - 9s 181ms/step - loss: 0.0836 - accuracy: 0.9688\n",
            "Epoch 123/200\n",
            "44/44 [==============================] - 11s 207ms/step - loss: 0.0847 - accuracy: 0.9716\n",
            "Epoch 124/200\n",
            "44/44 [==============================] - 11s 212ms/step - loss: 0.0735 - accuracy: 0.9737\n",
            "Epoch 125/200\n",
            "44/44 [==============================] - 9s 187ms/step - loss: 0.0938 - accuracy: 0.9638\n",
            "Epoch 126/200\n",
            "44/44 [==============================] - 10s 185ms/step - loss: 0.1012 - accuracy: 0.9609\n",
            "Epoch 127/200\n",
            "44/44 [==============================] - 11s 214ms/step - loss: 0.0716 - accuracy: 0.9716\n",
            "Epoch 128/200\n",
            "44/44 [==============================] - 11s 214ms/step - loss: 0.0758 - accuracy: 0.9737\n",
            "Epoch 129/200\n",
            "44/44 [==============================] - 10s 191ms/step - loss: 0.0704 - accuracy: 0.9744\n",
            "Epoch 130/200\n",
            "44/44 [==============================] - 10s 181ms/step - loss: 0.0693 - accuracy: 0.9730\n",
            "Epoch 131/200\n",
            "44/44 [==============================] - 11s 209ms/step - loss: 0.0826 - accuracy: 0.9744\n",
            "Epoch 132/200\n",
            "44/44 [==============================] - 10s 208ms/step - loss: 0.0691 - accuracy: 0.9723\n",
            "Epoch 133/200\n",
            "44/44 [==============================] - 9s 179ms/step - loss: 0.0645 - accuracy: 0.9794\n",
            "Epoch 134/200\n",
            "44/44 [==============================] - 10s 206ms/step - loss: 0.0782 - accuracy: 0.9695\n",
            "Epoch 135/200\n",
            "44/44 [==============================] - 10s 209ms/step - loss: 0.0956 - accuracy: 0.9680\n",
            "Epoch 136/200\n",
            "44/44 [==============================] - 9s 178ms/step - loss: 0.0637 - accuracy: 0.9759\n",
            "Epoch 137/200\n",
            "44/44 [==============================] - 11s 194ms/step - loss: 0.0760 - accuracy: 0.9709\n",
            "Epoch 138/200\n",
            "44/44 [==============================] - 11s 214ms/step - loss: 0.0641 - accuracy: 0.9815\n",
            "Epoch 139/200\n",
            "44/44 [==============================] - 11s 211ms/step - loss: 0.0647 - accuracy: 0.9730\n",
            "Epoch 140/200\n",
            "44/44 [==============================] - 10s 177ms/step - loss: 0.0670 - accuracy: 0.9737\n",
            "Epoch 141/200\n",
            "44/44 [==============================] - 10s 212ms/step - loss: 0.0544 - accuracy: 0.9794\n",
            "Epoch 142/200\n",
            "44/44 [==============================] - 10s 209ms/step - loss: 0.1038 - accuracy: 0.9666\n",
            "Epoch 143/200\n",
            "44/44 [==============================] - 10s 195ms/step - loss: 0.0724 - accuracy: 0.9730\n",
            "Epoch 144/200\n",
            "44/44 [==============================] - 11s 213ms/step - loss: 0.0814 - accuracy: 0.9659\n",
            "Epoch 145/200\n",
            "44/44 [==============================] - 10s 209ms/step - loss: 0.0908 - accuracy: 0.9666\n",
            "Epoch 146/200\n",
            "44/44 [==============================] - 9s 179ms/step - loss: 0.0934 - accuracy: 0.9638\n",
            "Epoch 147/200\n",
            "44/44 [==============================] - 11s 200ms/step - loss: 0.0896 - accuracy: 0.9716\n",
            "Epoch 148/200\n",
            "44/44 [==============================] - 10s 208ms/step - loss: 0.0658 - accuracy: 0.9830\n",
            "Epoch 149/200\n",
            "44/44 [==============================] - 10s 196ms/step - loss: 0.0676 - accuracy: 0.9723\n",
            "Epoch 150/200\n",
            "44/44 [==============================] - 9s 176ms/step - loss: 0.0485 - accuracy: 0.9822\n",
            "Epoch 151/200\n",
            "44/44 [==============================] - 11s 207ms/step - loss: 0.0451 - accuracy: 0.9822\n",
            "Epoch 152/200\n",
            "44/44 [==============================] - 10s 214ms/step - loss: 0.0784 - accuracy: 0.9737\n",
            "Epoch 153/200\n",
            "44/44 [==============================] - 10s 183ms/step - loss: 0.0581 - accuracy: 0.9830\n",
            "Epoch 154/200\n",
            "44/44 [==============================] - 10s 214ms/step - loss: 0.0393 - accuracy: 0.9858\n",
            "Epoch 155/200\n",
            "44/44 [==============================] - 10s 198ms/step - loss: 0.0493 - accuracy: 0.9837\n",
            "Epoch 156/200\n",
            "44/44 [==============================] - 10s 180ms/step - loss: 0.0516 - accuracy: 0.9801\n",
            "Epoch 157/200\n",
            "44/44 [==============================] - 11s 203ms/step - loss: 0.0737 - accuracy: 0.9751\n",
            "Epoch 158/200\n",
            "44/44 [==============================] - 11s 214ms/step - loss: 0.0673 - accuracy: 0.9780\n",
            "Epoch 159/200\n",
            "44/44 [==============================] - 9s 183ms/step - loss: 0.0673 - accuracy: 0.9787\n",
            "Epoch 160/200\n",
            "44/44 [==============================] - 10s 195ms/step - loss: 0.0698 - accuracy: 0.9773\n",
            "Epoch 161/200\n",
            "44/44 [==============================] - 10s 210ms/step - loss: 0.0748 - accuracy: 0.9737\n",
            "Epoch 162/200\n",
            "44/44 [==============================] - 10s 195ms/step - loss: 0.0567 - accuracy: 0.9801\n",
            "Epoch 163/200\n",
            "44/44 [==============================] - 10s 180ms/step - loss: 0.0685 - accuracy: 0.9773\n",
            "Epoch 164/200\n",
            "44/44 [==============================] - 10s 211ms/step - loss: 0.0531 - accuracy: 0.9830\n",
            "Epoch 165/200\n",
            "44/44 [==============================] - 10s 209ms/step - loss: 0.0772 - accuracy: 0.9780\n",
            "Epoch 166/200\n",
            "44/44 [==============================] - 10s 188ms/step - loss: 0.0603 - accuracy: 0.9759\n",
            "Epoch 167/200\n",
            "44/44 [==============================] - 10s 210ms/step - loss: 0.0503 - accuracy: 0.9851\n",
            "Epoch 168/200\n",
            "44/44 [==============================] - 10s 190ms/step - loss: 0.0574 - accuracy: 0.9787\n",
            "Epoch 169/200\n",
            "44/44 [==============================] - 10s 178ms/step - loss: 0.0454 - accuracy: 0.9865\n",
            "Epoch 170/200\n",
            "44/44 [==============================] - 10s 209ms/step - loss: 0.0496 - accuracy: 0.9766\n",
            "Epoch 171/200\n",
            "44/44 [==============================] - 10s 211ms/step - loss: 0.0664 - accuracy: 0.9759\n",
            "Epoch 172/200\n",
            "44/44 [==============================] - 9s 180ms/step - loss: 0.0464 - accuracy: 0.9822\n",
            "Epoch 173/200\n",
            "44/44 [==============================] - 10s 186ms/step - loss: 0.0642 - accuracy: 0.9759\n",
            "Epoch 174/200\n",
            "44/44 [==============================] - 10s 210ms/step - loss: 0.0451 - accuracy: 0.9865\n",
            "Epoch 175/200\n",
            "44/44 [==============================] - 8s 151ms/step - loss: 0.0614 - accuracy: 0.9751\n",
            "Epoch 176/200\n",
            "44/44 [==============================] - 9s 177ms/step - loss: 0.0426 - accuracy: 0.9851\n",
            "Epoch 177/200\n",
            "44/44 [==============================] - 10s 200ms/step - loss: 0.0799 - accuracy: 0.9737\n",
            "Epoch 178/200\n",
            "44/44 [==============================] - 11s 213ms/step - loss: 0.0700 - accuracy: 0.9801\n",
            "Epoch 179/200\n",
            "44/44 [==============================] - 10s 203ms/step - loss: 0.0472 - accuracy: 0.9844\n",
            "Epoch 180/200\n",
            "44/44 [==============================] - 9s 178ms/step - loss: 0.0527 - accuracy: 0.9815\n",
            "Epoch 181/200\n",
            "44/44 [==============================] - 11s 211ms/step - loss: 0.0470 - accuracy: 0.9830\n",
            "Epoch 182/200\n",
            "44/44 [==============================] - 11s 214ms/step - loss: 0.0465 - accuracy: 0.9801\n",
            "Epoch 183/200\n",
            "44/44 [==============================] - 10s 184ms/step - loss: 0.0593 - accuracy: 0.9822\n",
            "Epoch 184/200\n",
            "44/44 [==============================] - 11s 211ms/step - loss: 0.0551 - accuracy: 0.9794\n",
            "Epoch 185/200\n",
            "44/44 [==============================] - 11s 210ms/step - loss: 0.0519 - accuracy: 0.9787\n",
            "Epoch 186/200\n",
            "44/44 [==============================] - 10s 178ms/step - loss: 0.0572 - accuracy: 0.9837\n",
            "Epoch 187/200\n",
            "44/44 [==============================] - 11s 212ms/step - loss: 0.0387 - accuracy: 0.9872\n",
            "Epoch 188/200\n",
            "44/44 [==============================] - 10s 205ms/step - loss: 0.0471 - accuracy: 0.9801\n",
            "Epoch 189/200\n",
            "44/44 [==============================] - 9s 180ms/step - loss: 0.0694 - accuracy: 0.9773\n",
            "Epoch 190/200\n",
            "44/44 [==============================] - 10s 198ms/step - loss: 0.0681 - accuracy: 0.9737\n",
            "Epoch 191/200\n",
            "44/44 [==============================] - 11s 210ms/step - loss: 0.0532 - accuracy: 0.9844\n",
            "Epoch 192/200\n",
            "44/44 [==============================] - 9s 182ms/step - loss: 0.0373 - accuracy: 0.9858\n",
            "Epoch 193/200\n",
            "44/44 [==============================] - 9s 176ms/step - loss: 0.0513 - accuracy: 0.9815\n",
            "Epoch 194/200\n",
            "44/44 [==============================] - 11s 211ms/step - loss: 0.0386 - accuracy: 0.9886\n",
            "Epoch 195/200\n",
            "44/44 [==============================] - 10s 208ms/step - loss: 0.0417 - accuracy: 0.9851\n",
            "Epoch 196/200\n",
            "44/44 [==============================] - 9s 178ms/step - loss: 0.0429 - accuracy: 0.9844\n",
            "Epoch 197/200\n",
            "44/44 [==============================] - 10s 206ms/step - loss: 0.0603 - accuracy: 0.9794\n",
            "Epoch 198/200\n",
            "44/44 [==============================] - 10s 210ms/step - loss: 0.0476 - accuracy: 0.9822\n",
            "Epoch 199/200\n",
            "44/44 [==============================] - 10s 192ms/step - loss: 0.0676 - accuracy: 0.9766\n",
            "Epoch 200/200\n",
            "44/44 [==============================] - 9s 178ms/step - loss: 0.0506 - accuracy: 0.9794\n"
          ]
        }
      ]
    },
    {
      "cell_type": "code",
      "source": [
        "accuracy=model.evaluate(test)\n",
        "print(accuracy)"
      ],
      "metadata": {
        "colab": {
          "base_uri": "https://localhost:8080/"
        },
        "id": "5JtH_yrNxtws",
        "outputId": "595d0652-c769-4181-cd22-8b62aec68233"
      },
      "execution_count": null,
      "outputs": [
        {
          "output_type": "stream",
          "name": "stdout",
          "text": [
            "5/5 [==============================] - 16s 247ms/step - loss: 0.2144 - accuracy: 0.9487\n",
            "[0.2144162654876709, 0.9487179517745972]\n"
          ]
        }
      ]
    },
    {
      "cell_type": "code",
      "source": [
        "plt.plot(history.history['accuracy'])\n",
        "plt.title('model accuracy')\n",
        "plt.xlabel('epoch')\n",
        "plt.legend(['train', 'test'], loc='upper left')\n",
        "plt.show()"
      ],
      "metadata": {
        "colab": {
          "base_uri": "https://localhost:8080/",
          "height": 472
        },
        "id": "H9Kq0rh5x2iP",
        "outputId": "721c8ede-9dfa-4184-afa9-747612fe98d6"
      },
      "execution_count": null,
      "outputs": [
        {
          "output_type": "display_data",
          "data": {
            "text/plain": [
              "<Figure size 640x480 with 1 Axes>"
            ],
            "image/png": "[encoded data removed]"
          },
          "metadata": {}
        }
      ]
    },
    {
      "cell_type": "code",
      "source": [
        "amcuracy=model.evaluate(train)\n",
        "print(amcuracy)"
      ],
      "metadata": {
        "colab": {
          "base_uri": "https://localhost:8080/"
        },
        "id": "5uP5lg77wKJ9",
        "outputId": "baa72844-ad23-4479-db41-0b7fb8a02f55"
      },
      "execution_count": null,
      "outputs": [
        {
          "output_type": "stream",
          "name": "stdout",
          "text": [
            "44/44 [==============================] - 9s 170ms/step - loss: 0.0433 - accuracy: 0.9858\n",
            "[0.04328654706478119, 0.9857954382896423]\n"
          ]
        }
      ]
    }
  ]
}