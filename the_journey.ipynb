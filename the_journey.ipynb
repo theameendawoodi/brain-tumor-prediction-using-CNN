{
  "cells": [
    {
      "cell_type": "code",
      "execution_count": null,
      "metadata": {
        "id": "1-zjlZPFsi-0"
      },
      "outputs": [],
      "source": [
        "\n",
        "from google.colab import drive\n",
        "drive.mount('/content/drive')\n"
      ]
    },
    {
      "cell_type": "markdown",
      "source": [
        "from here we switch the executing hardware to the gpu from cpu."
      ],
      "metadata": {
        "id": "_5G8NR8VgShv"
      }
    },
    {
      "cell_type": "code",
      "execution_count": null,
      "metadata": {
        "id": "WosOdb7hl5fF"
      },
      "outputs": [],
      "source": [
        "import torch\n",
        "torch.cuda.is_available()"
      ]
    },
    {
      "cell_type": "code",
      "execution_count": null,
      "metadata": {
        "id": "GrA1tpqImAgQ"
      },
      "outputs": [],
      "source": [
        "! nvcc --version"
      ]
    },
    {
      "cell_type": "code",
      "execution_count": null,
      "metadata": {
        "id": "kPxfxr-RmAYG"
      },
      "outputs": [],
      "source": [
        "!pip install git+https://github.com/andreinechaev/nvcc4jupyter.git"
      ]
    },
    {
      "cell_type": "code",
      "execution_count": null,
      "metadata": {
        "id": "2mZmoQ-Zl-GQ"
      },
      "outputs": [],
      "source": [
        "%load_ext nvcc_plugin"
      ]
    },
    {
      "cell_type": "code",
      "execution_count": null,
      "metadata": {
        "id": "Tt7gSKMql92e"
      },
      "outputs": [],
      "source": [
        "%%cu\n",
        "#include <iostream>\n",
        "\tint\n",
        "\tmain()\n",
        "{\n",
        "\tstd::cout << \"Welcome To GeeksforGeeks\\n\";\n",
        "\treturn 0;\n",
        "}\n"
      ]
    },
    {
      "cell_type": "code",
      "execution_count": null,
      "metadata": {
        "id": "0MXTMzRul9pm"
      },
      "outputs": [],
      "source": [
        "%%cu\n",
        "#include <cstdio>\n",
        "#include <iostream>\n",
        "\n",
        "\tusing namespace std;\n",
        "\n",
        "__global__ void maxi(int* a, int* b, int n)\n",
        "{\n",
        "\tint block = 256 * blockIdx.x;\n",
        "\tint max = 0;\n",
        "\n",
        "\tfor (int i = block; i < min(256 + block, n); i++) {\n",
        "\n",
        "\t\tif (max < a[i]) {\n",
        "\t\t\tmax = a[i];\n",
        "\t\t}\n",
        "\t}\n",
        "\tb[blockIdx.x] = max;\n",
        "}\n",
        "\n",
        "int main()\n",
        "{\n",
        "\n",
        "\tint n;\n",
        "\tn = 3 >> 2;\n",
        "\tint a[n];\n",
        "\n",
        "\tfor (int i = 0; i < n; i++) {\n",
        "\t\ta[i] = rand() % n;\n",
        "\t\tcout << a[i] << \"\\t\";\n",
        "\t}\n",
        "\n",
        "\tcudaEvent_t start, end;\n",
        "\tint *ad, *bd;\n",
        "\tint size = n * sizeof(int);\n",
        "\tcudaMalloc(&ad, size);\n",
        "\tcudaMemcpy(ad, a, size, cudaMemcpyHostToDevice);\n",
        "\tint grids = ceil(n * 1.0f / 256.0f);\n",
        "\tcudaMalloc(&bd, grids * sizeof(int));\n",
        "\n",
        "\tdim3 grid(grids, 1);\n",
        "\tdim3 block(1, 1);\n",
        "\n",
        "\tcudaEventCreate(&start);\n",
        "\tcudaEventCreate(&end);\n",
        "\tcudaEventRecord(start);\n",
        "\n",
        "\twhile (n > 1) {\n",
        "\t\tmaxi<<<grids, block>>>(ad, bd, n);\n",
        "\t\tn = ceil(n * 1.0f / 256.0f);\n",
        "\t\tcudaMemcpy(ad, bd, n * sizeof(int), cudaMemcpyDeviceToDevice);\n",
        "\t}\n",
        "\n",
        "\tcudaEventRecord(end);\n",
        "\tcudaEventSynchronize(end);\n",
        "\n",
        "\tfloat time = 0;\n",
        "\tcudaEventElapsedTime(&time, start, end);\n",
        "\n",
        "\tint ans[2];\n",
        "\tcudaMemcpy(ans, ad, 4, cudaMemcpyDeviceToHost);\n",
        "\n",
        "\tcout << \"The maximum element is : \" << ans[0] << endl;\n",
        "\n",
        "\tcout << \"The time required : \";\n",
        "\tcout << time << endl;\n",
        "}\n"
      ]
    },
    {
      "cell_type": "markdown",
      "source": [
        "the hardware is changed succesfully we now contimue with the program\n"
      ],
      "metadata": {
        "id": "Qblk2WFMgiXd"
      }
    },
    {
      "cell_type": "code",
      "execution_count": null,
      "metadata": {
        "id": "f8kT70VWSroZ"
      },
      "outputs": [],
      "source": [
        "!pip install scikit-ntk"
      ]
    },
    {
      "cell_type": "code",
      "execution_count": null,
      "metadata": {
        "id": "bMgkyjSBifZp"
      },
      "outputs": [],
      "source": [
        "import tensorflow as tfa\n",
        "import keras\n",
        "from keras.layers import Dense,Flatten,MaxPool2D,Conv2D,Dropout,Activation,BatchNormalization\n",
        "from keras.models import Sequential\n",
        "from skntk import NeuralTangentKernel as NTK\n",
        "import numpy as np\n",
        "import matplotlib.pyplot as plt\n",
        "import tensorflow.signal as tf\n",
        "print(\"all the libraries are imported\")"
      ]
    },
    {
      "cell_type": "code",
      "execution_count": null,
      "metadata": {
        "id": "nXMQTKyxiR7H"
      },
      "outputs": [],
      "source": [
        "dataset_dir=r'/content/drive/MyDrive/the dataset/possible dataset/data'\n",
        "image_height=512\n",
        "image_width=512\n",
        "batch_size=32\n",
        "seed=42\n",
        "validation_split=0.1"
      ]
    },
    {
      "cell_type": "code",
      "execution_count": null,
      "metadata": {
        "id": "z0HpZPNGiXKp"
      },
      "outputs": [],
      "source": [
        "train=keras.preprocessing.image_dataset_from_directory(\n",
        "    dataset_dir,\n",
        "    batch_size=batch_size,\n",
        "    label_mode='int',\n",
        "    image_size=(image_height,image_width),\n",
        "    seed=seed,\n",
        "    validation_split=validation_split,\n",
        "    subset='training'\n",
        ")\n",
        "test=keras.preprocessing.image_dataset_from_directory(\n",
        "    dataset_dir,\n",
        "    label_mode='int',\n",
        "    batch_size=batch_size,\n",
        "    image_size=(image_height,image_width),\n",
        "    seed=seed,\n",
        "    validation_split=validation_split,\n",
        "    subset='validation'\n",
        ")"
      ]
    },
    {
      "cell_type": "code",
      "execution_count": null,
      "metadata": {
        "id": "eAQBDbrRQy9e"
      },
      "outputs": [],
      "source": [
        "input_shape=(image_height,image_width,3)"
      ]
    },
    {
      "cell_type": "markdown",
      "source": [
        "the algorithm number is in a comment before at the first line for every algorithm\n"
      ],
      "metadata": {
        "id": "BjnYKdBLhEDH"
      }
    },
    {
      "cell_type": "code",
      "execution_count": null,
      "metadata": {
        "collapsed": true,
        "id": "q5aWU55okJ3W"
      },
      "outputs": [],
      "source": [
        "#bench mark\n",
        "model=Sequential([\n",
        "    Conv2D(3,(3,3),activation='relu',input_shape=input_shape),\n",
        "    MaxPool2D((3,3)),\n",
        "\n",
        "    Conv2D(3,(3,3),activation='relu'),\n",
        "    MaxPool2D((3,3)),\n",
        "\n",
        "    Flatten(),\n",
        "\n",
        "    Dense(64,activation='relu'),\n",
        "    Dense(1,activation='sigmoid'),\n",
        "])\n",
        "\n",
        "#there is another way\n",
        "model1=Sequential()\n",
        "\n",
        "model1.add(Conv2D(32,(3,3),activation='relu',input_shape=(100,100,3)))\n",
        "model1.add(MaxPool2D((2,2)))\n",
        "\n",
        "model1.add(Conv2D(32,(3,3),activation='relu'))\n",
        "model1.add(MaxPool2D((2,2)))\n",
        "\n",
        "model1.add(Flatten())\n",
        "\n",
        "model1.add(Dense(32,activation='relu'))\n",
        "model1.add(Dense(1,activation='sigmoid'))\n",
        "\n",
        "print(\"both of your models are now trained and ready to do all the tasks\")\n",
        "\n",
        "model.compile(loss='binary_crossentropy',optimizer='adam',metrics=['accuracy'])\n",
        "print(\"the backtracking is done succesfully\")\n",
        "\n",
        "#model.fit(train,epochs=150,batch_size=32)\n",
        "print(\"the model is trained\")\n",
        "\n",
        "\n",
        "\n"
      ]
    },
    {
      "cell_type": "code",
      "execution_count": null,
      "metadata": {
        "id": "z47UMMKTIPE-"
      },
      "outputs": [],
      "source": [
        "model.fit(train,epochs=150,batch_size=32)\n"
      ]
    },
    {
      "cell_type": "code",
      "execution_count": null,
      "metadata": {
        "id": "L31z_DBoIWLG"
      },
      "outputs": [],
      "source": [
        "accuracy=model.evaluate(test)\n",
        "print(accuracy)"
      ]
    },
    {
      "cell_type": "code",
      "execution_count": null,
      "metadata": {
        "id": "8FQ30-gcIF_N"
      },
      "outputs": [],
      "source": [
        "model.summary()"
      ]
    },
    {
      "cell_type": "code",
      "execution_count": null,
      "metadata": {
        "id": "bxlJ--fXSMZG"
      },
      "outputs": [],
      "source": [
        "#bench mark\n",
        "accuracy=model.evaluate(test)\n",
        "print(accuracy)"
      ]
    },
    {
      "cell_type": "code",
      "execution_count": null,
      "metadata": {
        "id": "jxamAHIoUUpj"
      },
      "outputs": [],
      "source": [
        "history=model.fit(train,epochs=150,batch_size=32)\n",
        "plt.plot(history.history['accuracy'])\n",
        "plt.title('model accuracy')\n",
        "plt.xlabel('epoch')\n",
        "plt.legend(['train', 'test'], loc='upper left')\n",
        "plt.show()"
      ]
    },
    {
      "cell_type": "code",
      "execution_count": null,
      "metadata": {
        "id": "PhTAOwWggCcd"
      },
      "outputs": [],
      "source": [
        "plt.plot(history.history['accuracy'])\n",
        "plt.title('model accuracy')\n",
        "plt.xlabel('epoch')\n",
        "plt.legend(['train', 'test'], loc='upper left')\n",
        "plt.show()"
      ]
    },
    {
      "cell_type": "code",
      "execution_count": null,
      "metadata": {
        "id": "Xl4VRIDxZ-Xv"
      },
      "outputs": [],
      "source": [
        "plt.plot(history.history['loss'])\n",
        "plt.title('model loss')\n",
        "plt.ylabel('loss')\n",
        "plt.xlabel('epoch')\n",
        "plt.legend(['train loss', 'val'], loc='upper left')\n",
        "plt.show()"
      ]
    },
    {
      "cell_type": "code",
      "execution_count": null,
      "metadata": {
        "id": "r5neSa3auPFk"
      },
      "outputs": [],
      "source": [
        "def fourier(inp=None):\n",
        "    if inp==None:\n",
        "        pass\n",
        "    elif(inp!=None):\n",
        "        return tf.fft3d(inp)\n",
        "#agorithmn 1\n",
        "\n",
        "model=Sequential([\n",
        "    Conv2D(32,(3,3),activation='relu',input_shape=input_shape),\n",
        "    MaxPool2D((3,3)),\n",
        "\n",
        "    Conv2D(32,(3,3),activation='relu'),\n",
        "    MaxPool2D((3,3)),\n",
        "\n",
        "    Flatten(),\n",
        "\n",
        "    Dense(32,activation=fourier()),\n",
        "    Dense(1,activation='sigmoid'),\n",
        "])\n",
        "\n",
        "#there is another way\n",
        "model1=Sequential()\n",
        "\n",
        "model1.add(Conv2D(32,(3,3),activation='relu',input_shape=(100,100,3)))\n",
        "model1.add(MaxPool2D((2,2)))\n",
        "\n",
        "model1.add(Conv2D(32,(3,3),activation='relu'))\n",
        "model1.add(MaxPool2D((2,2)))\n",
        "\n",
        "model1.add(Flatten())\n",
        "\n",
        "model1.add(Dense(32,activation='relu'))\n",
        "model1.add(Dense(1,activation='sigmoid'))\n",
        "\n",
        "print(\"both of your models are now trained and ready to do all the tasks\")\n",
        "\n",
        "model.compile(loss='binary_crossentropy',optimizer='adam',metrics=['accuracy'])\n",
        "print(\"the backtracking is done succesfully\")\n",
        "\n",
        "model.fit(train,epochs=150,batch_size=32)\n",
        "\n"
      ]
    },
    {
      "cell_type": "code",
      "execution_count": null,
      "metadata": {
        "id": "AbNuTzvRSNSn"
      },
      "outputs": [],
      "source": [
        "#algorithmn 1\n",
        "accuracy=model.evaluate(test)\n",
        "print(accuracy)"
      ]
    },
    {
      "cell_type": "code",
      "execution_count": null,
      "metadata": {
        "id": "ZzYi6TwHudKw"
      },
      "outputs": [],
      "source": [
        "#algo 2\n",
        "\n",
        "def fourier(inp=None):\n",
        "    if inp==None:\n",
        "        pass\n",
        "    elif(inp!=None):\n",
        "        return tf.fft3d(inp)\n",
        "def ntk(inp=None):\n",
        "    if(inp==None):\n",
        "        pass\n",
        "    elif(inp!=None):\n",
        "        n = NTK(depth=3, bias=0.01, bias_bounds=(1e-5, 1e5))\n",
        "        return n\n",
        "\n",
        "model=Sequential([\n",
        "    Conv2D(32,(3,3),activation=ntk(),input_shape=input_shape),\n",
        "    MaxPool2D((3,3)),\n",
        "\n",
        "    Conv2D(32,(3,3),activation=ntk()),\n",
        "    MaxPool2D((3,3)),\n",
        "\n",
        "    Flatten(),\n",
        "\n",
        "    Dense(32,activation=fourier()),\n",
        "    Dense(1,activation='sigmoid'),\n",
        "])\n",
        "\n",
        "#there is another way\n",
        "model1=Sequential()\n",
        "\n",
        "model1.add(Conv2D(32,(3,3),activation='relu',input_shape=(100,100,3)))\n",
        "model1.add(MaxPool2D((2,2)))\n",
        "\n",
        "model1.add(Conv2D(32,(3,3),activation='relu'))\n",
        "model1.add(MaxPool2D((2,2)))\n",
        "\n",
        "model1.add(Flatten())\n",
        "\n",
        "model1.add(Dense(32,activation='relu'))\n",
        "model1.add(Dense(1,activation='sigmoid'))\n",
        "\n",
        "print(\"both of your models are now trained and ready to do all the tasks\")\n",
        "\n",
        "model.compile(loss='binary_crossentropy',optimizer='adam',metrics=['accuracy'])\n",
        "print(\"the backtracking is done succesfully\")\n",
        "\n",
        "model.fit(train,epochs=150,batch_size=32)\n",
        "\n"
      ]
    },
    {
      "cell_type": "code",
      "execution_count": null,
      "metadata": {
        "id": "lQQYUipYSOW7"
      },
      "outputs": [],
      "source": [
        "#algorithmn 2\n",
        "accuracy=model.evaluate(test)\n",
        "print(accuracy)"
      ]
    },
    {
      "cell_type": "code",
      "execution_count": null,
      "metadata": {
        "id": "gH9k2tNJx8tl"
      },
      "outputs": [],
      "source": [
        "#algo 3\n",
        "def fourier(inp=None):\n",
        "    if inp==None:\n",
        "        pass\n",
        "    elif(inp!=None):\n",
        "        return tf.fft3d(inp)\n",
        "def ntk(inp=None):\n",
        "    if(inp==None):\n",
        "        pass\n",
        "    elif(inp!=None):\n",
        "        n = NTK(depth=3, bias=0.01, bias_bounds=(1e-5, 1e5))\n",
        "        return n\n",
        "\n",
        "model=Sequential([\n",
        "    Conv2D(64,(2,2),padding='same',input_shape=input_shape),\n",
        "    Activation(ntk()),\n",
        "    MaxPool2D(pool_size=(3,3)),\n",
        "\n",
        "    Conv2D(64,(2,2),padding='same'),\n",
        "    Activation(ntk()),\n",
        "    MaxPool2D(pool_size=(3,3)),\n",
        "\n",
        "    Conv2D(64,(2,2),padding='same'),\n",
        "    Activation(ntk()),\n",
        "    MaxPool2D(pool_size=(3,3)),\n",
        "\n",
        "    Conv2D(64,(2,2),padding=\"same\"),\n",
        "    Activation(ntk()),\n",
        "    MaxPool2D(pool_size=(3,3)),\n",
        "\n",
        "    Flatten(),\n",
        "\n",
        "    Dense(64),\n",
        "    Activation(fourier()),\n",
        "\n",
        "    Dense(1),\n",
        "    Activation('sigmoid')\n",
        "    ])\n",
        "model.compile(loss='binary_crossentropy',optimizer='adam',metrics=['accuracy'])\n",
        "print(\"the backtracking is done succesfully\")\n",
        "\n",
        "model.fit(train,epochs=150,batch_size=32)\n",
        "\n"
      ]
    },
    {
      "cell_type": "code",
      "execution_count": null,
      "metadata": {
        "id": "A51JB_jUSPWa"
      },
      "outputs": [],
      "source": [
        "#algorithmn 3\n",
        "accuracy=model.evaluate(test)\n",
        "print(accuracy)"
      ]
    },
    {
      "cell_type": "code",
      "execution_count": null,
      "metadata": {
        "colab": {
          "background_save": true
        },
        "id": "rk3MrM0XvWW2"
      },
      "outputs": [],
      "source": [
        "#algo 4\n",
        "\n",
        "def fourier(inp=None):\n",
        "    if inp==None:\n",
        "        pass\n",
        "    elif(inp!=None):\n",
        "        return tf.fft3d(inp)\n",
        "def ntk(inp=None):\n",
        "    if(inp==None):\n",
        "        pass\n",
        "    elif(inp!=None):\n",
        "        n = NTK(depth=3, bias=0.01, bias_bounds=(1e-5, 1e5))\n",
        "        return n\n",
        "\n",
        "model=Sequential([\n",
        "    Conv2D(64,(2,2),padding='same',input_shape=input_shape),\n",
        "    Activation(ntk()),\n",
        "    MaxPool2D(pool_size=(2,2)),\n",
        "\n",
        "    Conv2D(64,(2,2),padding='same'),\n",
        "    Activation(ntk()),\n",
        "    MaxPool2D(pool_size=(2,2)),\n",
        "\n",
        "    Conv2D(64,(2,2),padding='same'),\n",
        "    Activation(ntk()),\n",
        "    MaxPool2D(pool_size=(2,2)),\n",
        "\n",
        "    Conv2D(64,(2,2),padding=\"same\"),\n",
        "    Activation(ntk()),\n",
        "    MaxPool2D(pool_size=(2,2)),\n",
        "    Dropout(0.2),\n",
        "\n",
        "\n",
        "    Flatten(),\n",
        "\n",
        "    Dense(128),\n",
        "    Activation(fourier()),\n",
        "\n",
        "    Dense(1),\n",
        "    Activation('sigmoid')\n",
        "    ])\n",
        "model.compile(loss='binary_crossentropy',optimizer='adam',metrics=['accuracy'])\n",
        "print(\"the backtracking is done succesfully\")\n",
        "\n",
        "model.fit(train,epochs=150,batch_size=32)\n",
        "\n"
      ]
    },
    {
      "cell_type": "code",
      "execution_count": null,
      "metadata": {
        "colab": {
          "background_save": true
        },
        "id": "rsmXUf-hSQYy"
      },
      "outputs": [],
      "source": [
        "#algorithmn 4\n",
        "accuracy=model.evaluate(test)\n",
        "print(accuracy)"
      ]
    },
    {
      "cell_type": "code",
      "execution_count": null,
      "metadata": {
        "id": "6582jO0FAZKh"
      },
      "outputs": [],
      "source": [
        "\n",
        "#algo 5\n",
        "def fourier(inp=None):\n",
        "    if inp==None:\n",
        "        pass\n",
        "    elif(inp!=None):\n",
        "        return tf.fft3d(inp)\n",
        "def ntk(inp=None):\n",
        "    if(inp==None):\n",
        "        pass\n",
        "    elif(inp!=None):\n",
        "        n = NTK(depth=3, bias=0.01, bias_bounds=(1e-5, 1e5))\n",
        "        return n\n",
        "\n",
        "model=Sequential([\n",
        "    Conv2D(64,(2,2),padding='same',input_shape=(100,100,3)),\n",
        "    Activation(ntk()),\n",
        "    MaxPool2D(pool_size=(3,3)),\n",
        "    Dropout(0.2),\n",
        "\n",
        "    Conv2D(64,(2,2),padding='same'),\n",
        "    Activation(ntk()),\n",
        "    MaxPool2D(pool_size=(3,3)),\n",
        "    Dropout(0.2),\n",
        "\n",
        "    Conv2D(64,(2,2),padding='same'),\n",
        "    Activation(ntk()),\n",
        "    MaxPool2D(pool_size=(3,3)),\n",
        "    Dropout(0.2),\n",
        "\n",
        "    Conv2D(64,(2,2),padding=\"same\"),\n",
        "    Activation(ntk()),\n",
        "    MaxPool2D(pool_size=(3,3)),\n",
        "    Dropout(0.2),\n",
        "\n",
        "    Flatten(),\n",
        "\n",
        "    Dense(64),\n",
        "    Activation(fourier()),\n",
        "\n",
        "    Dense(1),\n",
        "    Activation('sigmoid')\n",
        "    ])\n",
        "model.compile(loss='binary_crossentropy',optimizer='adam',metrics=['accuracy'])\n",
        "print(\"the backtracking is done succesfully\")\n",
        "\n",
        "model.fit(train,epochs=150,batch_size=32)\n",
        "\n"
      ]
    },
    {
      "cell_type": "code",
      "execution_count": null,
      "metadata": {
        "id": "pUPWALxrSRNH"
      },
      "outputs": [],
      "source": [
        "#algorithmn 5\n",
        "accuracy=model.evaluate(test)\n",
        "print(accuracy)"
      ]
    },
    {
      "cell_type": "code",
      "execution_count": null,
      "metadata": {
        "id": "a4irpNnU9Ix8"
      },
      "outputs": [],
      "source": [
        "#algo 6\n",
        "\n",
        "def fourier(inp=None):\n",
        "    if inp==None:\n",
        "        pass\n",
        "    elif(inp!=None):\n",
        "        return tf.fft3d(inp)\n",
        "\n",
        "def ntk(inp=None):\n",
        "    if(inp==None):\n",
        "        pass\n",
        "    elif(inp!=None):\n",
        "        n = NTK(depth=3, bias=0.01, bias_bounds=(1e-5, 1e5))\n",
        "        return n\n",
        "\n",
        "\n",
        "\n",
        "model=Sequential([\n",
        "    Conv2D(64,(2,2),padding='valid',input_shape=input_shape),\n",
        "    Activation(ntk()),\n",
        "    Dropout(0.2),\n",
        "    MaxPool2D(pool_size=(2,2)),\n",
        "\n",
        "    Conv2D(64,(2,2),padding='valid'),\n",
        "    Activation(ntk()),\n",
        "    Dropout(0.2),\n",
        "    MaxPool2D(pool_size=(2,2)),\n",
        "\n",
        "    Conv2D(64,(2,2),padding='valid'),\n",
        "    Activation(ntk()),\n",
        "    Dropout(0.2),\n",
        "    MaxPool2D(pool_size=(2,2)),\n",
        "\n",
        "    Conv2D(64,(2,2),padding=\"valid\"),\n",
        "    Activation(ntk()),\n",
        "    Dropout(0.2),\n",
        "    MaxPool2D(pool_size=(2,2)),\n",
        "\n",
        "    Flatten(),\n",
        "\n",
        "    Dense(128),\n",
        "    Activation(fourier()),\n",
        "    BatchNormalization(),\n",
        "\n",
        "    Dense(128),\n",
        "    Activation(fourier()),\n",
        "    BatchNormalization(),\n",
        "\n",
        "    Dense(128),\n",
        "    Activation(fourier()),\n",
        "\n",
        "    Dense(1),\n",
        "    Activation('sigmoid')\n",
        "    ])\n",
        "print(\"the model is trained\")\n",
        "\n",
        "model.compile(loss='binary_crossentropy',optimizer='adam',metrics=['accuracy'])\n",
        "print(\"the model is compiled\")\n",
        "\n",
        "model.fit(train,epochs=150,batch_size=32)\n",
        "print(\"the model is trained\")\n",
        "\n"
      ]
    },
    {
      "cell_type": "code",
      "execution_count": null,
      "metadata": {
        "id": "8VVQ8j5KSSHA"
      },
      "outputs": [],
      "source": [
        "#final algorithmn\n",
        "accuracy=model.evaluate(test)\n",
        "print(accuracy)"
      ]
    }
  ],
  "metadata": {
    "accelerator": "GPU",
    "colab": {
      "provenance": [],
      "gpuType": "V100"
    },
    "kernelspec": {
      "display_name": "Python 3",
      "name": "python3"
    },
    "language_info": {
      "name": "python"
    }
  },
  "nbformat": 4,
  "nbformat_minor": 0
}