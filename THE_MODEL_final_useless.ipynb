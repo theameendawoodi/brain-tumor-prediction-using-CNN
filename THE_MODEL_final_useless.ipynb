{
  "cells": [
    {
      "cell_type": "code",
      "execution_count": null,
      "metadata": {
        "colab": {
          "base_uri": "https://localhost:8080/"
        },
        "id": "ebvW9ZkKXJH-",
        "outputId": "1969df5f-1067-4cee-bb36-5ffaba1ea537"
      },
      "outputs": [
        {
          "output_type": "stream",
          "name": "stdout",
          "text": [
            "Mounted at /content/drive\n"
          ]
        }
      ],
      "source": [
        "from google.colab import drive\n",
        "drive.mount('/content/drive')"
      ]
    },
    {
      "cell_type": "code",
      "execution_count": null,
      "metadata": {
        "colab": {
          "base_uri": "https://localhost:8080/"
        },
        "id": "bNJtJh80XaH6",
        "outputId": "675f7ec9-f56a-4e63-8f46-273e85681864"
      },
      "outputs": [
        {
          "output_type": "execute_result",
          "data": {
            "text/plain": [
              "True"
            ]
          },
          "metadata": {},
          "execution_count": 2
        }
      ],
      "source": [
        "import torch\n",
        "torch.cuda.is_available()"
      ]
    },
    {
      "cell_type": "code",
      "execution_count": null,
      "metadata": {
        "colab": {
          "base_uri": "https://localhost:8080/"
        },
        "id": "_z3h2BcCXaFL",
        "outputId": "555d111b-14c0-4121-9598-c126ef6b982e"
      },
      "outputs": [
        {
          "output_type": "stream",
          "name": "stdout",
          "text": [
            "Thu Mar 21 19:18:20 2024       \n",
            "+---------------------------------------------------------------------------------------+\n",
            "| NVIDIA-SMI 535.104.05             Driver Version: 535.104.05   CUDA Version: 12.2     |\n",
            "|-----------------------------------------+----------------------+----------------------+\n",
            "| GPU  Name                 Persistence-M | Bus-Id        Disp.A | Volatile Uncorr. ECC |\n",
            "| Fan  Temp   Perf          Pwr:Usage/Cap |         Memory-Usage | GPU-Util  Compute M. |\n",
            "|                                         |                      |               MIG M. |\n",
            "|=========================================+======================+======================|\n",
            "|   0  Tesla T4                       Off | 00000000:00:04.0 Off |                    0 |\n",
            "| N/A   57C    P8              10W /  70W |      3MiB / 15360MiB |      0%      Default |\n",
            "|                                         |                      |                  N/A |\n",
            "+-----------------------------------------+----------------------+----------------------+\n",
            "                                                                                         \n",
            "+---------------------------------------------------------------------------------------+\n",
            "| Processes:                                                                            |\n",
            "|  GPU   GI   CI        PID   Type   Process name                            GPU Memory |\n",
            "|        ID   ID                                                             Usage      |\n",
            "|=======================================================================================|\n",
            "|  No running processes found                                                           |\n",
            "+---------------------------------------------------------------------------------------+\n"
          ]
        }
      ],
      "source": [
        "!nvidia-smi"
      ]
    },
    {
      "cell_type": "code",
      "execution_count": null,
      "metadata": {
        "colab": {
          "base_uri": "https://localhost:8080/"
        },
        "id": "8YSPzlX4XaCi",
        "outputId": "15128752-1fef-4ce2-852a-7e50cf14d8c6"
      },
      "outputs": [
        {
          "output_type": "stream",
          "name": "stdout",
          "text": [
            "Collecting scikit-ntk\n",
            "  Downloading scikit_ntk-1.1.3-py3-none-any.whl (5.2 kB)\n",
            "Requirement already satisfied: scikit-learn<2.0.0,>=1.1.3 in /usr/local/lib/python3.10/dist-packages (from scikit-ntk) (1.2.2)\n",
            "Requirement already satisfied: numpy>=1.17.3 in /usr/local/lib/python3.10/dist-packages (from scikit-learn<2.0.0,>=1.1.3->scikit-ntk) (1.25.2)\n",
            "Requirement already satisfied: scipy>=1.3.2 in /usr/local/lib/python3.10/dist-packages (from scikit-learn<2.0.0,>=1.1.3->scikit-ntk) (1.11.4)\n",
            "Requirement already satisfied: joblib>=1.1.1 in /usr/local/lib/python3.10/dist-packages (from scikit-learn<2.0.0,>=1.1.3->scikit-ntk) (1.3.2)\n",
            "Requirement already satisfied: threadpoolctl>=2.0.0 in /usr/local/lib/python3.10/dist-packages (from scikit-learn<2.0.0,>=1.1.3->scikit-ntk) (3.3.0)\n",
            "Installing collected packages: scikit-ntk\n",
            "Successfully installed scikit-ntk-1.1.3\n"
          ]
        }
      ],
      "source": [
        "!pip install scikit-ntk"
      ]
    },
    {
      "cell_type": "code",
      "execution_count": null,
      "metadata": {
        "colab": {
          "base_uri": "https://localhost:8080/"
        },
        "id": "j-PGv78AXZ_2",
        "outputId": "2834dd17-f42e-4598-9e81-164a3a8524d9"
      },
      "outputs": [
        {
          "output_type": "stream",
          "name": "stdout",
          "text": [
            "all the libraries are imported\n"
          ]
        }
      ],
      "source": [
        "import tensorflow as tfa\n",
        "import keras\n",
        "from keras.layers import Dense,Flatten,MaxPool2D,Conv2D,Dropout,Activation,BatchNormalization\n",
        "from keras.models import Sequential\n",
        "from skntk import NeuralTangentKernel as NTK\n",
        "import numpy as np\n",
        "import matplotlib.pyplot as plt\n",
        "import tensorflow.signal as tf\n",
        "print(\"all the libraries are imported\")"
      ]
    },
    {
      "cell_type": "code",
      "execution_count": null,
      "metadata": {
        "id": "E6L80fAoXlSZ"
      },
      "outputs": [],
      "source": [
        "dataset_dir=r'/content/drive/MyDrive/the dataset/dataset copy/Copy of data'\n",
        "image_height=512\n",
        "image_width=512\n",
        "batch_size=32\n",
        "seed=42\n",
        "validation_split=0.1"
      ]
    },
    {
      "cell_type": "code",
      "execution_count": null,
      "metadata": {
        "colab": {
          "base_uri": "https://localhost:8080/"
        },
        "id": "4bqxWYoZXZ6l",
        "outputId": "df0e27d6-a4ce-40bc-ae6c-cd47021cc209"
      },
      "outputs": [
        {
          "output_type": "stream",
          "name": "stdout",
          "text": [
            "Found 1564 files belonging to 2 classes.\n",
            "Using 1408 files for training.\n",
            "Found 1564 files belonging to 2 classes.\n",
            "Using 156 files for validation.\n"
          ]
        }
      ],
      "source": [
        "train=keras.preprocessing.image_dataset_from_directory(\n",
        "    dataset_dir,\n",
        "    batch_size=batch_size,\n",
        "    label_mode='int',\n",
        "    image_size=(image_height,image_width),\n",
        "    seed=seed,\n",
        "    validation_split=validation_split,\n",
        "    subset='training'\n",
        ")\n",
        "test=keras.preprocessing.image_dataset_from_directory(\n",
        "    dataset_dir,\n",
        "    label_mode='int',\n",
        "    batch_size=batch_size,\n",
        "    image_size=(image_height,image_width),\n",
        "    seed=seed,\n",
        "    validation_split=validation_split,\n",
        "    subset='validation'\n",
        ")"
      ]
    },
    {
      "cell_type": "code",
      "execution_count": null,
      "metadata": {
        "id": "lt0WQi1qXZ4L"
      },
      "outputs": [],
      "source": [
        "input_shape=(image_height,image_width,3)"
      ]
    },
    {
      "cell_type": "code",
      "execution_count": null,
      "metadata": {
        "colab": {
          "base_uri": "https://localhost:8080/"
        },
        "id": "yygdLTB3XZ1G",
        "outputId": "8c93a7ee-5983-4876-edac-2669fa613d06"
      },
      "outputs": [
        {
          "output_type": "stream",
          "name": "stdout",
          "text": [
            "Num GPUs Available:  1\n"
          ]
        }
      ],
      "source": [
        "import tensorflow as tf\n",
        "\n",
        "print(\"Num GPUs Available: \", len(tf.config.list_physical_devices('GPU')))"
      ]
    },
    {
      "cell_type": "code",
      "execution_count": null,
      "metadata": {
        "id": "pCZLG45cXZyr"
      },
      "outputs": [],
      "source": [
        "resize_rescale=keras.Sequential([\n",
        "    keras.layers.Resizing(image_height,image_width),\n",
        "    keras.layers.Rescaling(1./255)\n",
        "])"
      ]
    },
    {
      "cell_type": "code",
      "execution_count": null,
      "metadata": {
        "id": "xOGlzuToXZwN"
      },
      "outputs": [],
      "source": [
        "data_augmentation=keras.Sequential([\n",
        "    keras.layers.RandomFlip(\"horizontal_and_vertical\"),\n",
        "    keras.layers.RandomRotation(0.2),\n",
        "])"
      ]
    },
    {
      "cell_type": "code",
      "execution_count": null,
      "metadata": {
        "id": "IdXn1qtAX6f2"
      },
      "outputs": [],
      "source": []
    },
    {
      "cell_type": "code",
      "execution_count": null,
      "metadata": {
        "colab": {
          "background_save": true,
          "base_uri": "https://localhost:8080/"
        },
        "id": "JD0rvrgwXZtc",
        "outputId": "25ba1350-c042-468d-8438-a9b6ef8fd3b6"
      },
      "outputs": [
        {
          "output_type": "stream",
          "name": "stdout",
          "text": [
            "Epoch 1/150\n",
            "44/44 [==============================] - 226s 4s/step - loss: 0.6496 - accuracy: 0.7088\n",
            "Epoch 2/150\n",
            "44/44 [==============================] - 43s 951ms/step - loss: 0.5513 - accuracy: 0.7500\n",
            "Epoch 3/150\n",
            "44/44 [==============================] - 43s 953ms/step - loss: 0.5033 - accuracy: 0.7791\n",
            "Epoch 4/150\n",
            "44/44 [==============================] - 44s 951ms/step - loss: 0.4987 - accuracy: 0.7884\n"
          ]
        }
      ],
      "source": [
        "with tf.device('/GPU:0'):\n",
        "  def fourier(inp=None):\n",
        "    if inp==None:\n",
        "        pass\n",
        "    elif(inp!=None):\n",
        "        return tf.fft3d(inp)\n",
        "\n",
        "  def ntk(inp=None):\n",
        "    if(inp==None):\n",
        "        pass\n",
        "    elif(inp!=None):\n",
        "        n = NTK(depth=3, bias=0.01, bias_bounds=(1e-5, 1e5))\n",
        "        return n\n",
        "  model=Sequential([\n",
        "    resize_rescale,\n",
        "    data_augmentation,\n",
        "    Conv2D(64,(2,2),padding='valid',input_shape=input_shape),\n",
        "    Activation(ntk()),\n",
        "    Dropout(0.2),\n",
        "    MaxPool2D(pool_size=(2,2)),\n",
        "\n",
        "    Conv2D(64,(2,2),padding='valid'),\n",
        "    Activation(ntk()),\n",
        "    Dropout(0.2),\n",
        "    MaxPool2D(pool_size=(2,2)),\n",
        "\n",
        "    Conv2D(64,(2,2),padding='valid'),\n",
        "    Activation(ntk()),\n",
        "    Dropout(0.2),\n",
        "    MaxPool2D(pool_size=(2,2)),\n",
        "\n",
        "    Conv2D(64,(2,2),padding=\"valid\"),\n",
        "    Activation(ntk()),\n",
        "    Dropout(0.2),\n",
        "    MaxPool2D(pool_size=(2,2)),\n",
        "\n",
        "    Flatten(),\n",
        "\n",
        "    Dense(128),\n",
        "    Activation(fourier()),\n",
        "    BatchNormalization(),\n",
        "\n",
        "    Dense(128),\n",
        "    Activation(fourier()),\n",
        "    BatchNormalization(),\n",
        "\n",
        "    Dense(128),\n",
        "    Activation(fourier()),\n",
        "\n",
        "    Dense(1),\n",
        "    Activation('sigmoid')\n",
        "  ])\n",
        "  model.compile(loss='binary_crossentropy',optimizer='adam',metrics=['accuracy'])\n",
        "  history=model.fit(train,epochs=150,batch_size=32)"
      ]
    },
    {
      "cell_type": "code",
      "execution_count": null,
      "metadata": {
        "colab": {
          "background_save": true
        },
        "id": "sBlkDheYXZq7"
      },
      "outputs": [],
      "source": [
        "model.summary()"
      ]
    },
    {
      "cell_type": "code",
      "execution_count": null,
      "metadata": {
        "id": "PrF13o7pXZoe"
      },
      "outputs": [],
      "source": [
        "accuracy=model.evaluate(test)\n",
        "print(accuracy)"
      ]
    },
    {
      "cell_type": "code",
      "execution_count": null,
      "metadata": {
        "colab": {
          "background_save": true
        },
        "id": "iEZX_UZTXZld"
      },
      "outputs": [],
      "source": [
        "plt.plot(history.history['accuracy'])\n",
        "plt.title('model accuracy')\n",
        "plt.xlabel('epoch')\n",
        "plt.legend(['train', 'test'], loc='upper left')\n",
        "plt.show()"
      ]
    },
    {
      "cell_type": "code",
      "execution_count": null,
      "metadata": {
        "colab": {
          "background_save": true
        },
        "id": "g5udnPehYOrh"
      },
      "outputs": [],
      "source": [
        "amcuracy=model.evaluate(valid)\n",
        "print(amcuracy)"
      ]
    },
    {
      "cell_type": "code",
      "execution_count": null,
      "metadata": {
        "id": "14QwUjcmYKlR"
      },
      "outputs": [],
      "source": []
    },
    {
      "cell_type": "code",
      "execution_count": null,
      "metadata": {
        "id": "vL7_6c-OYKgm"
      },
      "outputs": [],
      "source": []
    }
  ],
  "metadata": {
    "accelerator": "GPU",
    "colab": {
      "gpuType": "T4",
      "provenance": []
    },
    "kernelspec": {
      "display_name": "Python 3",
      "name": "python3"
    },
    "language_info": {
      "name": "python"
    }
  },
  "nbformat": 4,
  "nbformat_minor": 0
}